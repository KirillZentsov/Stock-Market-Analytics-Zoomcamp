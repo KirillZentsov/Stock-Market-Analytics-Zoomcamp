{
 "cells": [
  {
   "cell_type": "code",
   "execution_count": null,
   "id": "8050c040",
   "metadata": {},
   "outputs": [],
   "source": [
    "# Imports\n",
    "import pandas as pd\n",
    "import yfinance as yf"
   ]
  },
  {
   "cell_type": "markdown",
   "id": "eadecc65",
   "metadata": {},
   "source": [
    "# Question 1: [Index] S&P 500 Stocks Added to the Index"
   ]
  },
  {
   "cell_type": "markdown",
   "id": "ea2846c5",
   "metadata": {},
   "source": [
    "Which year had the highest number of additions?"
   ]
  },
  {
   "cell_type": "code",
   "execution_count": null,
   "id": "42d3c19d",
   "metadata": {},
   "outputs": [],
   "source": [
    "# Create a dataFrame with company tickers, names, and the year they were added:\n",
    "tables = pd.read_html(io='https://en.wikipedia.org/wiki/List_of_S%26P_500_companies')"
   ]
  },
  {
   "cell_type": "code",
   "execution_count": null,
   "id": "e9d917ba",
   "metadata": {},
   "outputs": [],
   "source": [
    "df = tables[0]"
   ]
  },
  {
   "cell_type": "code",
   "execution_count": null,
   "id": "5a7eebdc",
   "metadata": {},
   "outputs": [],
   "source": [
    "df = df.drop(['GICS Sector', 'GICS Sub-Industry', 'Headquarters Location', 'CIK', 'Founded'], axis=1)"
   ]
  },
  {
   "cell_type": "code",
   "execution_count": null,
   "id": "d1a79dfe",
   "metadata": {},
   "outputs": [],
   "source": [
    "df['Date added'] = pd.to_datetime(df['Date added'])"
   ]
  },
  {
   "cell_type": "code",
   "execution_count": null,
   "id": "ac139075",
   "metadata": {},
   "outputs": [],
   "source": [
    "# Extract the year from the addition date:\n",
    "df['Year added'] = df['Date added'].dt.year"
   ]
  },
  {
   "cell_type": "code",
   "execution_count": null,
   "id": "432a822e",
   "metadata": {
    "scrolled": false
   },
   "outputs": [
    {
     "name": "stdout",
     "output_type": "stream",
     "text": [
      "<class 'pandas.core.frame.DataFrame'>\n",
      "RangeIndex: 503 entries, 0 to 502\n",
      "Data columns (total 4 columns):\n",
      " #   Column      Non-Null Count  Dtype         \n",
      "---  ------      --------------  -----         \n",
      " 0   Symbol      503 non-null    object        \n",
      " 1   Security    503 non-null    object        \n",
      " 2   Date added  503 non-null    datetime64[ns]\n",
      " 3   Year added  503 non-null    int64         \n",
      "dtypes: datetime64[ns](1), int64(1), object(2)\n",
      "memory usage: 15.8+ KB\n"
     ]
    }
   ],
   "source": [
    "df.info()"
   ]
  },
  {
   "cell_type": "code",
   "execution_count": null,
   "id": "2a38a150",
   "metadata": {
    "scrolled": true
   },
   "outputs": [
    {
     "data": {
      "text/plain": [
       "Year added\n",
       "1957    53\n",
       "2017    23\n",
       "2016    23\n",
       "2019    22\n",
       "2008    17\n",
       "Name: Symbol, dtype: int64"
      ]
     },
     "execution_count": null,
     "metadata": {},
     "output_type": "execute_result"
    }
   ],
   "source": [
    "# Calculate the number of stocks added each year:\n",
    "df.groupby('Year added')['Symbol'].size().sort_values(ascending=False).head(5)"
   ]
  },
  {
   "cell_type": "markdown",
   "id": "fd680761",
   "metadata": {},
   "source": []
  },
  {
   "cell_type": "markdown",
   "id": "a49ef0fe",
   "metadata": {},
   "source": [
    "# Question 2. [Macro] Indexes YTD (as of 1 May 2025)"
   ]
  },
  {
   "cell_type": "markdown",
   "id": "40c82419",
   "metadata": {},
   "source": [
    "How many indexes (out of 10) have better year-to-date returns than the US (S&P 500) as of May 1, 2025?"
   ]
  },
  {
   "cell_type": "code",
   "execution_count": null,
   "id": "ee200982",
   "metadata": {},
   "outputs": [],
   "source": [
    "# Download data using yfinance:\n",
    "tickers = ['^GSPC', '000001.SS', '^HSI', '^AXJO', '^NSEI', '^GSPTSE', '^GDAXI', '^FTSE', '^N225', '^MXX', '^BVSP']"
   ]
  },
  {
   "cell_type": "code",
   "execution_count": null,
   "id": "b251322a",
   "metadata": {},
   "outputs": [
    {
     "name": "stderr",
     "output_type": "stream",
     "text": [
      "[*********************100%***********************]  11 of 11 completed"
     ]
    },
    {
     "name": "stdout",
     "output_type": "stream",
     "text": [
      "Price             Close                                                    \\\n",
      "Ticker        000001.SS        ^AXJO     ^BVSP        ^FTSE        ^GDAXI   \n",
      "Date                                                                        \n",
      "2025-04-24  3297.288086  7968.200195  134580.0  8407.400391  22064.509766   \n",
      "2025-04-25  3295.060059          NaN  134739.0  8415.299805  22242.449219   \n",
      "2025-04-28  3288.415039  7997.100098  135016.0  8417.299805  22271.669922   \n",
      "2025-04-29  3286.655029  8070.600098  135093.0  8463.500000  22425.830078   \n",
      "2025-04-30  3279.031006  8126.200195  135067.0  8494.900391  22496.980469   \n",
      "\n",
      "Price                                                              \\\n",
      "Ticker            ^GSPC       ^GSPTSE          ^HSI          ^MXX   \n",
      "Date                                                                \n",
      "2025-04-24  5484.770020  24727.500000  21909.759766  56382.000000   \n",
      "2025-04-25  5525.209961  24710.500000  21980.740234  56720.121094   \n",
      "2025-04-28  5528.750000  24798.599609  21971.960938  56980.128906   \n",
      "2025-04-29  5560.830078  24874.500000  22008.109375  55613.429688   \n",
      "2025-04-30  5569.060059  24841.699219  22119.410156  56259.281250   \n",
      "\n",
      "Price                     ...    Volume                                        \\\n",
      "Ticker             ^N225  ...     ^AXJO       ^BVSP         ^FTSE      ^GDAXI   \n",
      "Date                      ...                                                   \n",
      "2025-04-24  35039.148438  ...  639100.0  14113400.0  1.126606e+09  62636800.0   \n",
      "2025-04-25  35705.738281  ...       NaN  13051800.0  8.027340e+08  70917400.0   \n",
      "2025-04-28  35839.988281  ...  769000.0  11449700.0  7.387417e+08  55883200.0   \n",
      "2025-04-29           NaN  ...  710800.0  12761100.0  6.559248e+08  75547100.0   \n",
      "2025-04-30  36045.378906  ...  889500.0  15452400.0  1.589592e+09  99189800.0   \n",
      "\n",
      "Price                                                                          \\\n",
      "Ticker             ^GSPC      ^GSPTSE          ^HSI         ^MXX        ^N225   \n",
      "Date                                                                            \n",
      "2025-04-24  4.697710e+09  224419200.0  2.985800e+09  249950000.0  137100000.0   \n",
      "2025-04-25  4.236580e+09  214234300.0  3.025700e+09  217532100.0  134700000.0   \n",
      "2025-04-28  4.257880e+09  224287200.0  2.466000e+09  193000200.0  132400000.0   \n",
      "2025-04-29  4.747150e+09  199905200.0  3.045200e+09  240938000.0          NaN   \n",
      "2025-04-30  5.449490e+09  271264200.0  4.682300e+09  226957400.0  167100000.0   \n",
      "\n",
      "Price                 \n",
      "Ticker         ^NSEI  \n",
      "Date                  \n",
      "2025-04-24  358800.0  \n",
      "2025-04-25  387700.0  \n",
      "2025-04-28  320500.0  \n",
      "2025-04-29  357600.0  \n",
      "2025-04-30  424500.0  \n",
      "\n",
      "[5 rows x 55 columns]\n"
     ]
    },
    {
     "name": "stderr",
     "output_type": "stream",
     "text": [
      "\n"
     ]
    }
   ],
   "source": [
    "multi_data = yf.download(tickers, start='2025-01-01', end='2025-05-01', interval='1d')\n",
    "print(multi_data.tail())"
   ]
  },
  {
   "cell_type": "code",
   "execution_count": null,
   "id": "269708d2",
   "metadata": {},
   "outputs": [],
   "source": [
    "df = multi_data['Close']"
   ]
  },
  {
   "cell_type": "code",
   "execution_count": null,
   "id": "3b9d1a78",
   "metadata": {},
   "outputs": [
    {
     "data": {
      "text/html": [
       "<div>\n",
       "<style scoped>\n",
       "    .dataframe tbody tr th:only-of-type {\n",
       "        vertical-align: middle;\n",
       "    }\n",
       "\n",
       "    .dataframe tbody tr th {\n",
       "        vertical-align: top;\n",
       "    }\n",
       "\n",
       "    .dataframe thead th {\n",
       "        text-align: right;\n",
       "    }\n",
       "</style>\n",
       "<table border=\"1\" class=\"dataframe\">\n",
       "  <thead>\n",
       "    <tr style=\"text-align: right;\">\n",
       "      <th>Ticker</th>\n",
       "      <th>000001.SS</th>\n",
       "      <th>^AXJO</th>\n",
       "      <th>^BVSP</th>\n",
       "      <th>^FTSE</th>\n",
       "      <th>^GDAXI</th>\n",
       "      <th>^GSPC</th>\n",
       "      <th>^GSPTSE</th>\n",
       "      <th>^HSI</th>\n",
       "      <th>^MXX</th>\n",
       "      <th>^N225</th>\n",
       "      <th>^NSEI</th>\n",
       "    </tr>\n",
       "    <tr>\n",
       "      <th>Date</th>\n",
       "      <th></th>\n",
       "      <th></th>\n",
       "      <th></th>\n",
       "      <th></th>\n",
       "      <th></th>\n",
       "      <th></th>\n",
       "      <th></th>\n",
       "      <th></th>\n",
       "      <th></th>\n",
       "      <th></th>\n",
       "      <th></th>\n",
       "    </tr>\n",
       "  </thead>\n",
       "  <tbody>\n",
       "    <tr>\n",
       "      <th>2025-01-01</th>\n",
       "      <td>NaN</td>\n",
       "      <td>NaN</td>\n",
       "      <td>NaN</td>\n",
       "      <td>NaN</td>\n",
       "      <td>NaN</td>\n",
       "      <td>NaN</td>\n",
       "      <td>NaN</td>\n",
       "      <td>NaN</td>\n",
       "      <td>NaN</td>\n",
       "      <td>NaN</td>\n",
       "      <td>23742.900391</td>\n",
       "    </tr>\n",
       "    <tr>\n",
       "      <th>2025-01-02</th>\n",
       "      <td>3262.561035</td>\n",
       "      <td>8201.200195</td>\n",
       "      <td>120125.0</td>\n",
       "      <td>8260.099609</td>\n",
       "      <td>20024.660156</td>\n",
       "      <td>5868.549805</td>\n",
       "      <td>24898.000000</td>\n",
       "      <td>19623.320312</td>\n",
       "      <td>49765.199219</td>\n",
       "      <td>NaN</td>\n",
       "      <td>24188.650391</td>\n",
       "    </tr>\n",
       "    <tr>\n",
       "      <th>2025-01-03</th>\n",
       "      <td>3211.429932</td>\n",
       "      <td>8250.500000</td>\n",
       "      <td>118533.0</td>\n",
       "      <td>8224.000000</td>\n",
       "      <td>19906.080078</td>\n",
       "      <td>5942.470215</td>\n",
       "      <td>25073.500000</td>\n",
       "      <td>19760.269531</td>\n",
       "      <td>48957.238281</td>\n",
       "      <td>NaN</td>\n",
       "      <td>24004.750000</td>\n",
       "    </tr>\n",
       "    <tr>\n",
       "      <th>2025-01-06</th>\n",
       "      <td>3206.923096</td>\n",
       "      <td>8288.500000</td>\n",
       "      <td>120022.0</td>\n",
       "      <td>8249.700195</td>\n",
       "      <td>20216.189453</td>\n",
       "      <td>5975.379883</td>\n",
       "      <td>24999.800781</td>\n",
       "      <td>19688.289062</td>\n",
       "      <td>49493.558594</td>\n",
       "      <td>39307.050781</td>\n",
       "      <td>23616.050781</td>\n",
       "    </tr>\n",
       "    <tr>\n",
       "      <th>2025-01-07</th>\n",
       "      <td>3229.644043</td>\n",
       "      <td>8285.099609</td>\n",
       "      <td>121163.0</td>\n",
       "      <td>8245.299805</td>\n",
       "      <td>20340.570312</td>\n",
       "      <td>5909.029785</td>\n",
       "      <td>24929.900391</td>\n",
       "      <td>19447.580078</td>\n",
       "      <td>50085.500000</td>\n",
       "      <td>40083.300781</td>\n",
       "      <td>23707.900391</td>\n",
       "    </tr>\n",
       "  </tbody>\n",
       "</table>\n",
       "</div>"
      ],
      "text/plain": [
       "Ticker        000001.SS        ^AXJO     ^BVSP        ^FTSE        ^GDAXI  \\\n",
       "Date                                                                        \n",
       "2025-01-01          NaN          NaN       NaN          NaN           NaN   \n",
       "2025-01-02  3262.561035  8201.200195  120125.0  8260.099609  20024.660156   \n",
       "2025-01-03  3211.429932  8250.500000  118533.0  8224.000000  19906.080078   \n",
       "2025-01-06  3206.923096  8288.500000  120022.0  8249.700195  20216.189453   \n",
       "2025-01-07  3229.644043  8285.099609  121163.0  8245.299805  20340.570312   \n",
       "\n",
       "Ticker            ^GSPC       ^GSPTSE          ^HSI          ^MXX  \\\n",
       "Date                                                                \n",
       "2025-01-01          NaN           NaN           NaN           NaN   \n",
       "2025-01-02  5868.549805  24898.000000  19623.320312  49765.199219   \n",
       "2025-01-03  5942.470215  25073.500000  19760.269531  48957.238281   \n",
       "2025-01-06  5975.379883  24999.800781  19688.289062  49493.558594   \n",
       "2025-01-07  5909.029785  24929.900391  19447.580078  50085.500000   \n",
       "\n",
       "Ticker             ^N225         ^NSEI  \n",
       "Date                                    \n",
       "2025-01-01           NaN  23742.900391  \n",
       "2025-01-02           NaN  24188.650391  \n",
       "2025-01-03           NaN  24004.750000  \n",
       "2025-01-06  39307.050781  23616.050781  \n",
       "2025-01-07  40083.300781  23707.900391  "
      ]
     },
     "execution_count": null,
     "metadata": {},
     "output_type": "execute_result"
    }
   ],
   "source": [
    "df.head()"
   ]
  },
  {
   "cell_type": "code",
   "execution_count": null,
   "id": "7dd39a0b",
   "metadata": {},
   "outputs": [
    {
     "name": "stdout",
     "output_type": "stream",
     "text": [
      "<class 'pandas.core.frame.DataFrame'>\n",
      "DatetimeIndex: 86 entries, 2025-01-01 to 2025-04-30\n",
      "Freq: B\n",
      "Data columns (total 11 columns):\n",
      " #   Column     Non-Null Count  Dtype  \n",
      "---  ------     --------------  -----  \n",
      " 0   000001.SS  78 non-null     float64\n",
      " 1   ^AXJO      81 non-null     float64\n",
      " 2   ^BVSP      81 non-null     float64\n",
      " 3   ^FTSE      83 non-null     float64\n",
      " 4   ^GDAXI     83 non-null     float64\n",
      " 5   ^GSPC      81 non-null     float64\n",
      " 6   ^GSPTSE    83 non-null     float64\n",
      " 7   ^HSI       79 non-null     float64\n",
      " 8   ^MXX       81 non-null     float64\n",
      " 9   ^N225      78 non-null     float64\n",
      " 10  ^NSEI      80 non-null     float64\n",
      "dtypes: float64(11)\n",
      "memory usage: 8.1 KB\n"
     ]
    }
   ],
   "source": [
    "df.info()"
   ]
  },
  {
   "cell_type": "code",
   "execution_count": null,
   "id": "7917e64a",
   "metadata": {},
   "outputs": [],
   "source": [
    "df = df.sort_index()"
   ]
  },
  {
   "cell_type": "code",
   "execution_count": null,
   "id": "0ee517b5",
   "metadata": {},
   "outputs": [],
   "source": [
    "# Find the first (non-NaN) value for each column:\n",
    "first_values = df.apply(lambda col: col[col.first_valid_index()], axis=0)"
   ]
  },
  {
   "cell_type": "code",
   "execution_count": null,
   "id": "3ed31bf4",
   "metadata": {},
   "outputs": [],
   "source": [
    "# # Find the last (non-NaN) value for each column:\n",
    "last_values = df.apply(lambda col: col[col.last_valid_index()], axis=0)"
   ]
  },
  {
   "cell_type": "code",
   "execution_count": null,
   "id": "6fa9b406",
   "metadata": {},
   "outputs": [],
   "source": [
    "# Calculate YTD returns:\n",
    "ytd_percentage = ((last_values - first_values)/first_values)*100"
   ]
  },
  {
   "cell_type": "code",
   "execution_count": null,
   "id": "38058052",
   "metadata": {
    "scrolled": false
   },
   "outputs": [
    {
     "data": {
      "text/plain": [
       "Ticker\n",
       "^MXX         13.049444\n",
       "^HSI         12.720018\n",
       "^BVSP        12.438710\n",
       "^GDAXI       12.346378\n",
       "^FTSE         2.842590\n",
       "^NSEI         2.490424\n",
       "000001.SS     0.504817\n",
       "^GSPTSE      -0.226126\n",
       "^AXJO        -0.914500\n",
       "^GSPC        -5.103301\n",
       "^N225        -8.297931\n",
       "dtype: float64"
      ]
     },
     "execution_count": null,
     "metadata": {},
     "output_type": "execute_result"
    }
   ],
   "source": [
    "# Compare the year-to-date (YTD) performance:\n",
    "ytd_percentage.sort_values(ascending=False)"
   ]
  },
  {
   "cell_type": "code",
   "execution_count": null,
   "id": "3a294778",
   "metadata": {},
   "outputs": [
    {
     "data": {
      "text/plain": [
       "9"
      ]
     },
     "execution_count": null,
     "metadata": {},
     "output_type": "execute_result"
    }
   ],
   "source": [
    "# How many indexes beat ^GSPC (S&P 500):\n",
    "ytd_percentage[ytd_percentage > ytd_percentage['^GSPC']].count()"
   ]
  },
  {
   "cell_type": "markdown",
   "id": "bdf644c1",
   "metadata": {},
   "source": []
  },
  {
   "cell_type": "markdown",
   "id": "5be62695",
   "metadata": {},
   "source": [
    "# Question 3. [Index] S&P 500 Market Corrections Analysis"
   ]
  },
  {
   "cell_type": "markdown",
   "id": "fe28b03e",
   "metadata": {},
   "source": [
    "Calculate the median duration (in days) of significant market corrections in the S&P 500 index."
   ]
  },
  {
   "cell_type": "code",
   "execution_count": null,
   "id": "c243aaef",
   "metadata": {},
   "outputs": [],
   "source": [
    "# Download S&P 500 historical data (1950-present) using yfinance\n",
    "ticker = '^GSPC'\n",
    "stock = yf.Ticker(ticker)"
   ]
  },
  {
   "cell_type": "code",
   "execution_count": null,
   "id": "37302b9e",
   "metadata": {},
   "outputs": [],
   "source": [
    "historical_data = stock.history(period='max', interval='1d')"
   ]
  },
  {
   "cell_type": "code",
   "execution_count": null,
   "id": "5469cbf4",
   "metadata": {},
   "outputs": [
    {
     "name": "stdout",
     "output_type": "stream",
     "text": [
      "<class 'pandas.core.frame.DataFrame'>\n",
      "DatetimeIndex: 24470 entries, 1927-12-30 00:00:00-05:00 to 2025-06-02 00:00:00-04:00\n",
      "Data columns (total 7 columns):\n",
      " #   Column        Non-Null Count  Dtype  \n",
      "---  ------        --------------  -----  \n",
      " 0   Open          24470 non-null  float64\n",
      " 1   High          24470 non-null  float64\n",
      " 2   Low           24470 non-null  float64\n",
      " 3   Close         24470 non-null  float64\n",
      " 4   Volume        24470 non-null  int64  \n",
      " 5   Dividends     24470 non-null  float64\n",
      " 6   Stock Splits  24470 non-null  float64\n",
      "dtypes: float64(6), int64(1)\n",
      "memory usage: 2.0 MB\n"
     ]
    }
   ],
   "source": [
    "historical_data.info()"
   ]
  },
  {
   "cell_type": "code",
   "execution_count": null,
   "id": "142552ea",
   "metadata": {
    "scrolled": true
   },
   "outputs": [
    {
     "data": {
      "text/html": [
       "<div>\n",
       "<style scoped>\n",
       "    .dataframe tbody tr th:only-of-type {\n",
       "        vertical-align: middle;\n",
       "    }\n",
       "\n",
       "    .dataframe tbody tr th {\n",
       "        vertical-align: top;\n",
       "    }\n",
       "\n",
       "    .dataframe thead th {\n",
       "        text-align: right;\n",
       "    }\n",
       "</style>\n",
       "<table border=\"1\" class=\"dataframe\">\n",
       "  <thead>\n",
       "    <tr style=\"text-align: right;\">\n",
       "      <th></th>\n",
       "      <th>Open</th>\n",
       "      <th>High</th>\n",
       "      <th>Low</th>\n",
       "      <th>Close</th>\n",
       "      <th>Volume</th>\n",
       "      <th>Dividends</th>\n",
       "      <th>Stock Splits</th>\n",
       "    </tr>\n",
       "    <tr>\n",
       "      <th>Date</th>\n",
       "      <th></th>\n",
       "      <th></th>\n",
       "      <th></th>\n",
       "      <th></th>\n",
       "      <th></th>\n",
       "      <th></th>\n",
       "      <th></th>\n",
       "    </tr>\n",
       "  </thead>\n",
       "  <tbody>\n",
       "    <tr>\n",
       "      <th>1927-12-30 00:00:00-05:00</th>\n",
       "      <td>17.660000</td>\n",
       "      <td>17.660000</td>\n",
       "      <td>17.660000</td>\n",
       "      <td>17.660000</td>\n",
       "      <td>0</td>\n",
       "      <td>0.0</td>\n",
       "      <td>0.0</td>\n",
       "    </tr>\n",
       "    <tr>\n",
       "      <th>1928-01-03 00:00:00-05:00</th>\n",
       "      <td>17.760000</td>\n",
       "      <td>17.760000</td>\n",
       "      <td>17.760000</td>\n",
       "      <td>17.760000</td>\n",
       "      <td>0</td>\n",
       "      <td>0.0</td>\n",
       "      <td>0.0</td>\n",
       "    </tr>\n",
       "    <tr>\n",
       "      <th>1928-01-04 00:00:00-05:00</th>\n",
       "      <td>17.719999</td>\n",
       "      <td>17.719999</td>\n",
       "      <td>17.719999</td>\n",
       "      <td>17.719999</td>\n",
       "      <td>0</td>\n",
       "      <td>0.0</td>\n",
       "      <td>0.0</td>\n",
       "    </tr>\n",
       "    <tr>\n",
       "      <th>1928-01-05 00:00:00-05:00</th>\n",
       "      <td>17.549999</td>\n",
       "      <td>17.549999</td>\n",
       "      <td>17.549999</td>\n",
       "      <td>17.549999</td>\n",
       "      <td>0</td>\n",
       "      <td>0.0</td>\n",
       "      <td>0.0</td>\n",
       "    </tr>\n",
       "    <tr>\n",
       "      <th>1928-01-06 00:00:00-05:00</th>\n",
       "      <td>17.660000</td>\n",
       "      <td>17.660000</td>\n",
       "      <td>17.660000</td>\n",
       "      <td>17.660000</td>\n",
       "      <td>0</td>\n",
       "      <td>0.0</td>\n",
       "      <td>0.0</td>\n",
       "    </tr>\n",
       "  </tbody>\n",
       "</table>\n",
       "</div>"
      ],
      "text/plain": [
       "                                Open       High        Low      Close  Volume  \\\n",
       "Date                                                                            \n",
       "1927-12-30 00:00:00-05:00  17.660000  17.660000  17.660000  17.660000       0   \n",
       "1928-01-03 00:00:00-05:00  17.760000  17.760000  17.760000  17.760000       0   \n",
       "1928-01-04 00:00:00-05:00  17.719999  17.719999  17.719999  17.719999       0   \n",
       "1928-01-05 00:00:00-05:00  17.549999  17.549999  17.549999  17.549999       0   \n",
       "1928-01-06 00:00:00-05:00  17.660000  17.660000  17.660000  17.660000       0   \n",
       "\n",
       "                           Dividends  Stock Splits  \n",
       "Date                                                \n",
       "1927-12-30 00:00:00-05:00        0.0           0.0  \n",
       "1928-01-03 00:00:00-05:00        0.0           0.0  \n",
       "1928-01-04 00:00:00-05:00        0.0           0.0  \n",
       "1928-01-05 00:00:00-05:00        0.0           0.0  \n",
       "1928-01-06 00:00:00-05:00        0.0           0.0  "
      ]
     },
     "execution_count": null,
     "metadata": {},
     "output_type": "execute_result"
    }
   ],
   "source": [
    "historical_data.head()"
   ]
  },
  {
   "cell_type": "code",
   "execution_count": null,
   "id": "191fb8be",
   "metadata": {},
   "outputs": [],
   "source": [
    "df = historical_data.loc['1950-01-01':, ['Close']].copy()"
   ]
  },
  {
   "cell_type": "code",
   "execution_count": null,
   "id": "4600f1f3",
   "metadata": {},
   "outputs": [],
   "source": [
    "df = df.reset_index().rename(columns={'index': 'Date'})"
   ]
  },
  {
   "cell_type": "code",
   "execution_count": null,
   "id": "f09f3926",
   "metadata": {
    "scrolled": true
   },
   "outputs": [],
   "source": [
    "df['Date'] = pd.to_datetime(df['Date']).dt.date"
   ]
  },
  {
   "cell_type": "code",
   "execution_count": null,
   "id": "be44c0c1",
   "metadata": {},
   "outputs": [],
   "source": [
    "df['Date'] = pd.to_datetime(df['Date'])"
   ]
  },
  {
   "cell_type": "code",
   "execution_count": null,
   "id": "65b1663b",
   "metadata": {},
   "outputs": [],
   "source": [
    "df = df.sort_values('Date').reset_index(drop=True)"
   ]
  },
  {
   "cell_type": "code",
   "execution_count": null,
   "id": "306dab82",
   "metadata": {},
   "outputs": [],
   "source": [
    "df['All-time high points'] = df['Close'].cummax()"
   ]
  },
  {
   "cell_type": "code",
   "execution_count": null,
   "id": "99aa3641",
   "metadata": {},
   "outputs": [
    {
     "data": {
      "text/html": [
       "<div>\n",
       "<style scoped>\n",
       "    .dataframe tbody tr th:only-of-type {\n",
       "        vertical-align: middle;\n",
       "    }\n",
       "\n",
       "    .dataframe tbody tr th {\n",
       "        vertical-align: top;\n",
       "    }\n",
       "\n",
       "    .dataframe thead th {\n",
       "        text-align: right;\n",
       "    }\n",
       "</style>\n",
       "<table border=\"1\" class=\"dataframe\">\n",
       "  <thead>\n",
       "    <tr style=\"text-align: right;\">\n",
       "      <th></th>\n",
       "      <th>Date</th>\n",
       "      <th>Close</th>\n",
       "      <th>All-time high points</th>\n",
       "    </tr>\n",
       "  </thead>\n",
       "  <tbody>\n",
       "    <tr>\n",
       "      <th>46</th>\n",
       "      <td>1950-03-10</td>\n",
       "      <td>17.090000</td>\n",
       "      <td>17.320000</td>\n",
       "    </tr>\n",
       "    <tr>\n",
       "      <th>47</th>\n",
       "      <td>1950-03-13</td>\n",
       "      <td>17.120001</td>\n",
       "      <td>17.320000</td>\n",
       "    </tr>\n",
       "    <tr>\n",
       "      <th>48</th>\n",
       "      <td>1950-03-14</td>\n",
       "      <td>17.250000</td>\n",
       "      <td>17.320000</td>\n",
       "    </tr>\n",
       "    <tr>\n",
       "      <th>49</th>\n",
       "      <td>1950-03-15</td>\n",
       "      <td>17.450001</td>\n",
       "      <td>17.450001</td>\n",
       "    </tr>\n",
       "    <tr>\n",
       "      <th>50</th>\n",
       "      <td>1950-03-16</td>\n",
       "      <td>17.490000</td>\n",
       "      <td>17.490000</td>\n",
       "    </tr>\n",
       "    <tr>\n",
       "      <th>51</th>\n",
       "      <td>1950-03-17</td>\n",
       "      <td>17.450001</td>\n",
       "      <td>17.490000</td>\n",
       "    </tr>\n",
       "  </tbody>\n",
       "</table>\n",
       "</div>"
      ],
      "text/plain": [
       "         Date      Close  All-time high points\n",
       "46 1950-03-10  17.090000             17.320000\n",
       "47 1950-03-13  17.120001             17.320000\n",
       "48 1950-03-14  17.250000             17.320000\n",
       "49 1950-03-15  17.450001             17.450001\n",
       "50 1950-03-16  17.490000             17.490000\n",
       "51 1950-03-17  17.450001             17.490000"
      ]
     },
     "execution_count": null,
     "metadata": {},
     "output_type": "execute_result"
    }
   ],
   "source": [
    "df.loc[46:51]"
   ]
  },
  {
   "cell_type": "code",
   "execution_count": null,
   "id": "d5117d91",
   "metadata": {},
   "outputs": [],
   "source": [
    "ath_points = df[df['Close'] == df['All-time high points']]"
   ]
  },
  {
   "cell_type": "code",
   "execution_count": null,
   "id": "80c03b59",
   "metadata": {},
   "outputs": [],
   "source": [
    "ath_points = ath_points.drop_duplicates(subset='Close', keep='first')"
   ]
  },
  {
   "cell_type": "code",
   "execution_count": null,
   "id": "a163a609",
   "metadata": {},
   "outputs": [
    {
     "data": {
      "text/html": [
       "<div>\n",
       "<style scoped>\n",
       "    .dataframe tbody tr th:only-of-type {\n",
       "        vertical-align: middle;\n",
       "    }\n",
       "\n",
       "    .dataframe tbody tr th {\n",
       "        vertical-align: top;\n",
       "    }\n",
       "\n",
       "    .dataframe thead th {\n",
       "        text-align: right;\n",
       "    }\n",
       "</style>\n",
       "<table border=\"1\" class=\"dataframe\">\n",
       "  <thead>\n",
       "    <tr style=\"text-align: right;\">\n",
       "      <th></th>\n",
       "      <th>Date</th>\n",
       "      <th>Close</th>\n",
       "      <th>All-time high points</th>\n",
       "    </tr>\n",
       "  </thead>\n",
       "  <tbody>\n",
       "    <tr>\n",
       "      <th>0</th>\n",
       "      <td>1950-01-03</td>\n",
       "      <td>16.660000</td>\n",
       "      <td>16.660000</td>\n",
       "    </tr>\n",
       "    <tr>\n",
       "      <th>1</th>\n",
       "      <td>1950-01-04</td>\n",
       "      <td>16.850000</td>\n",
       "      <td>16.850000</td>\n",
       "    </tr>\n",
       "    <tr>\n",
       "      <th>2</th>\n",
       "      <td>1950-01-05</td>\n",
       "      <td>16.930000</td>\n",
       "      <td>16.930000</td>\n",
       "    </tr>\n",
       "    <tr>\n",
       "      <th>3</th>\n",
       "      <td>1950-01-06</td>\n",
       "      <td>16.980000</td>\n",
       "      <td>16.980000</td>\n",
       "    </tr>\n",
       "    <tr>\n",
       "      <th>4</th>\n",
       "      <td>1950-01-09</td>\n",
       "      <td>17.080000</td>\n",
       "      <td>17.080000</td>\n",
       "    </tr>\n",
       "    <tr>\n",
       "      <th>...</th>\n",
       "      <td>...</td>\n",
       "      <td>...</td>\n",
       "      <td>...</td>\n",
       "    </tr>\n",
       "    <tr>\n",
       "      <th>18852</th>\n",
       "      <td>2024-12-04</td>\n",
       "      <td>6086.490234</td>\n",
       "      <td>6086.490234</td>\n",
       "    </tr>\n",
       "    <tr>\n",
       "      <th>18854</th>\n",
       "      <td>2024-12-06</td>\n",
       "      <td>6090.270020</td>\n",
       "      <td>6090.270020</td>\n",
       "    </tr>\n",
       "    <tr>\n",
       "      <th>18884</th>\n",
       "      <td>2025-01-23</td>\n",
       "      <td>6118.709961</td>\n",
       "      <td>6118.709961</td>\n",
       "    </tr>\n",
       "    <tr>\n",
       "      <th>18901</th>\n",
       "      <td>2025-02-18</td>\n",
       "      <td>6129.580078</td>\n",
       "      <td>6129.580078</td>\n",
       "    </tr>\n",
       "    <tr>\n",
       "      <th>18902</th>\n",
       "      <td>2025-02-19</td>\n",
       "      <td>6144.149902</td>\n",
       "      <td>6144.149902</td>\n",
       "    </tr>\n",
       "  </tbody>\n",
       "</table>\n",
       "<p>1447 rows × 3 columns</p>\n",
       "</div>"
      ],
      "text/plain": [
       "            Date        Close  All-time high points\n",
       "0     1950-01-03    16.660000             16.660000\n",
       "1     1950-01-04    16.850000             16.850000\n",
       "2     1950-01-05    16.930000             16.930000\n",
       "3     1950-01-06    16.980000             16.980000\n",
       "4     1950-01-09    17.080000             17.080000\n",
       "...          ...          ...                   ...\n",
       "18852 2024-12-04  6086.490234           6086.490234\n",
       "18854 2024-12-06  6090.270020           6090.270020\n",
       "18884 2025-01-23  6118.709961           6118.709961\n",
       "18901 2025-02-18  6129.580078           6129.580078\n",
       "18902 2025-02-19  6144.149902           6144.149902\n",
       "\n",
       "[1447 rows x 3 columns]"
      ]
     },
     "execution_count": null,
     "metadata": {},
     "output_type": "execute_result"
    }
   ],
   "source": [
    "ath_points"
   ]
  },
  {
   "cell_type": "code",
   "execution_count": null,
   "id": "98d9cc2e",
   "metadata": {},
   "outputs": [],
   "source": [
    "data = []"
   ]
  },
  {
   "cell_type": "code",
   "execution_count": null,
   "id": "c27b3229",
   "metadata": {},
   "outputs": [],
   "source": [
    "for i in range(len(ath_points) - 1):\n",
    "    start_idx = ath_points.index[i]\n",
    "    end_idx = ath_points.index[i + 1]\n",
    "    \n",
    "    sub_df = df.loc[start_idx:end_idx]\n",
    "    if len(sub_df) <= 2:\n",
    "        continue  \n",
    "\n",
    "    low_row = sub_df.loc[sub_df['Close'].idxmin()]\n",
    "    \n",
    "    high_price = df.loc[start_idx, 'Close']\n",
    "    low_price = low_row['Close']\n",
    "    low_date = low_row['Date']\n",
    "    drawdown = (high_price - low_price) / high_price * 100\n",
    "    duration = (low_date - df.loc[start_idx, 'Date']).days\n",
    "\n",
    "    data.append({\n",
    "        'Start Date': df.loc[start_idx, 'Date'],\n",
    "        'End Date': df.loc[end_idx, 'Date'],\n",
    "        'Drawdown': drawdown,\n",
    "        'Duration': duration\n",
    "    })"
   ]
  },
  {
   "cell_type": "code",
   "execution_count": null,
   "id": "579d45f1",
   "metadata": {},
   "outputs": [],
   "source": [
    "df_corrections = pd.DataFrame(data)"
   ]
  },
  {
   "cell_type": "code",
   "execution_count": null,
   "id": "304c6f2c",
   "metadata": {
    "scrolled": true
   },
   "outputs": [
    {
     "data": {
      "text/html": [
       "<div>\n",
       "<style scoped>\n",
       "    .dataframe tbody tr th:only-of-type {\n",
       "        vertical-align: middle;\n",
       "    }\n",
       "\n",
       "    .dataframe tbody tr th {\n",
       "        vertical-align: top;\n",
       "    }\n",
       "\n",
       "    .dataframe thead th {\n",
       "        text-align: right;\n",
       "    }\n",
       "</style>\n",
       "<table border=\"1\" class=\"dataframe\">\n",
       "  <thead>\n",
       "    <tr style=\"text-align: right;\">\n",
       "      <th></th>\n",
       "      <th>Start Date</th>\n",
       "      <th>End Date</th>\n",
       "      <th>Drawdown</th>\n",
       "      <th>Duration</th>\n",
       "    </tr>\n",
       "  </thead>\n",
       "  <tbody>\n",
       "    <tr>\n",
       "      <th>0</th>\n",
       "      <td>1950-01-09</td>\n",
       "      <td>1950-01-11</td>\n",
       "      <td>0.292736</td>\n",
       "      <td>1</td>\n",
       "    </tr>\n",
       "    <tr>\n",
       "      <th>1</th>\n",
       "      <td>1950-01-11</td>\n",
       "      <td>1950-02-02</td>\n",
       "      <td>2.457578</td>\n",
       "      <td>2</td>\n",
       "    </tr>\n",
       "    <tr>\n",
       "      <th>2</th>\n",
       "      <td>1950-02-06</td>\n",
       "      <td>1950-03-15</td>\n",
       "      <td>1.905311</td>\n",
       "      <td>10</td>\n",
       "    </tr>\n",
       "    <tr>\n",
       "      <th>3</th>\n",
       "      <td>1950-03-16</td>\n",
       "      <td>1950-03-22</td>\n",
       "      <td>0.285873</td>\n",
       "      <td>4</td>\n",
       "    </tr>\n",
       "    <tr>\n",
       "      <th>4</th>\n",
       "      <td>1950-03-23</td>\n",
       "      <td>1950-04-05</td>\n",
       "      <td>1.537577</td>\n",
       "      <td>8</td>\n",
       "    </tr>\n",
       "  </tbody>\n",
       "</table>\n",
       "</div>"
      ],
      "text/plain": [
       "  Start Date   End Date  Drawdown  Duration\n",
       "0 1950-01-09 1950-01-11  0.292736         1\n",
       "1 1950-01-11 1950-02-02  2.457578         2\n",
       "2 1950-02-06 1950-03-15  1.905311        10\n",
       "3 1950-03-16 1950-03-22  0.285873         4\n",
       "4 1950-03-23 1950-04-05  1.537577         8"
      ]
     },
     "execution_count": null,
     "metadata": {},
     "output_type": "execute_result"
    }
   ],
   "source": [
    "df_corrections.head()"
   ]
  },
  {
   "cell_type": "code",
   "execution_count": null,
   "id": "f46aec70",
   "metadata": {},
   "outputs": [],
   "source": [
    "# Filter for corrections with at least 5% drawdown:\n",
    "df_corrections = df_corrections[df_corrections['Drawdown'] >= 5]"
   ]
  },
  {
   "cell_type": "code",
   "execution_count": null,
   "id": "6e66395f",
   "metadata": {
    "scrolled": false
   },
   "outputs": [
    {
     "data": {
      "text/html": [
       "<div>\n",
       "<style scoped>\n",
       "    .dataframe tbody tr th:only-of-type {\n",
       "        vertical-align: middle;\n",
       "    }\n",
       "\n",
       "    .dataframe tbody tr th {\n",
       "        vertical-align: top;\n",
       "    }\n",
       "\n",
       "    .dataframe thead th {\n",
       "        text-align: right;\n",
       "    }\n",
       "</style>\n",
       "<table border=\"1\" class=\"dataframe\">\n",
       "  <thead>\n",
       "    <tr style=\"text-align: right;\">\n",
       "      <th></th>\n",
       "      <th>Start Date</th>\n",
       "      <th>End Date</th>\n",
       "      <th>Drawdown</th>\n",
       "      <th>Duration</th>\n",
       "    </tr>\n",
       "  </thead>\n",
       "  <tbody>\n",
       "    <tr>\n",
       "      <th>454</th>\n",
       "      <td>2007-10-09</td>\n",
       "      <td>2013-03-28</td>\n",
       "      <td>56.775388</td>\n",
       "      <td>517</td>\n",
       "    </tr>\n",
       "    <tr>\n",
       "      <th>449</th>\n",
       "      <td>2000-03-24</td>\n",
       "      <td>2007-05-30</td>\n",
       "      <td>49.146948</td>\n",
       "      <td>929</td>\n",
       "    </tr>\n",
       "    <tr>\n",
       "      <th>212</th>\n",
       "      <td>1973-01-11</td>\n",
       "      <td>1980-07-17</td>\n",
       "      <td>48.203593</td>\n",
       "      <td>630</td>\n",
       "    </tr>\n",
       "    <tr>\n",
       "      <th>199</th>\n",
       "      <td>1968-11-29</td>\n",
       "      <td>1972-03-06</td>\n",
       "      <td>36.061641</td>\n",
       "      <td>543</td>\n",
       "    </tr>\n",
       "    <tr>\n",
       "      <th>580</th>\n",
       "      <td>2020-02-19</td>\n",
       "      <td>2020-08-18</td>\n",
       "      <td>33.924960</td>\n",
       "      <td>33</td>\n",
       "    </tr>\n",
       "    <tr>\n",
       "      <th>298</th>\n",
       "      <td>1987-08-25</td>\n",
       "      <td>1989-07-26</td>\n",
       "      <td>33.509515</td>\n",
       "      <td>101</td>\n",
       "    </tr>\n",
       "    <tr>\n",
       "      <th>137</th>\n",
       "      <td>1961-12-12</td>\n",
       "      <td>1963-09-03</td>\n",
       "      <td>27.973568</td>\n",
       "      <td>196</td>\n",
       "    </tr>\n",
       "    <tr>\n",
       "      <th>225</th>\n",
       "      <td>1980-11-28</td>\n",
       "      <td>1982-11-03</td>\n",
       "      <td>27.113582</td>\n",
       "      <td>622</td>\n",
       "    </tr>\n",
       "    <tr>\n",
       "      <th>626</th>\n",
       "      <td>2022-01-03</td>\n",
       "      <td>2024-01-19</td>\n",
       "      <td>25.425097</td>\n",
       "      <td>282</td>\n",
       "    </tr>\n",
       "    <tr>\n",
       "      <th>182</th>\n",
       "      <td>1966-02-09</td>\n",
       "      <td>1967-05-04</td>\n",
       "      <td>22.177335</td>\n",
       "      <td>240</td>\n",
       "    </tr>\n",
       "  </tbody>\n",
       "</table>\n",
       "</div>"
      ],
      "text/plain": [
       "    Start Date   End Date   Drawdown  Duration\n",
       "454 2007-10-09 2013-03-28  56.775388       517\n",
       "449 2000-03-24 2007-05-30  49.146948       929\n",
       "212 1973-01-11 1980-07-17  48.203593       630\n",
       "199 1968-11-29 1972-03-06  36.061641       543\n",
       "580 2020-02-19 2020-08-18  33.924960        33\n",
       "298 1987-08-25 1989-07-26  33.509515       101\n",
       "137 1961-12-12 1963-09-03  27.973568       196\n",
       "225 1980-11-28 1982-11-03  27.113582       622\n",
       "626 2022-01-03 2024-01-19  25.425097       282\n",
       "182 1966-02-09 1967-05-04  22.177335       240"
      ]
     },
     "execution_count": null,
     "metadata": {},
     "output_type": "execute_result"
    }
   ],
   "source": [
    "# Here is the list of top 10 largest corrections by drawdown:\n",
    "df_corrections.sort_values('Drawdown', ascending=False).head(10)"
   ]
  },
  {
   "cell_type": "code",
   "execution_count": null,
   "id": "dff08395",
   "metadata": {
    "scrolled": true
   },
   "outputs": [
    {
     "name": "stdout",
     "output_type": "stream",
     "text": [
      "0.25    21.5\n",
      "0.50    39.0\n",
      "0.75    89.0\n",
      "Name: Duration, dtype: float64\n"
     ]
    }
   ],
   "source": [
    "# Determine the 25th, 50th (median), and 75th percentiles for correction durations:\n",
    "duration_percentiles = df_corrections['Duration'].quantile([0.25, 0.5, 0.75])\n",
    "print(duration_percentiles)"
   ]
  },
  {
   "cell_type": "markdown",
   "id": "1122d597",
   "metadata": {},
   "source": []
  },
  {
   "cell_type": "markdown",
   "id": "c4017c2f",
   "metadata": {},
   "source": [
    "# Question 4. [Stocks] Earnings Surprise Analysis for Amazon (AMZN)"
   ]
  },
  {
   "cell_type": "markdown",
   "id": "2cbf2061",
   "metadata": {},
   "source": [
    "Calculate the median 2-day percentage change in stock prices following positive earnings surprises days."
   ]
  },
  {
   "cell_type": "code",
   "execution_count": null,
   "id": "c87d5dcc",
   "metadata": {
    "scrolled": true
   },
   "outputs": [],
   "source": [
    "# Load earnings data from the supplied CSV:\n",
    "df0 = pd.read_csv('.../Downloads/ha1_Amazon.csv', delimiter=';')"
   ]
  },
  {
   "cell_type": "code",
   "execution_count": null,
   "id": "61541ea6",
   "metadata": {
    "scrolled": true
   },
   "outputs": [
    {
     "data": {
      "text/html": [
       "<div>\n",
       "<style scoped>\n",
       "    .dataframe tbody tr th:only-of-type {\n",
       "        vertical-align: middle;\n",
       "    }\n",
       "\n",
       "    .dataframe tbody tr th {\n",
       "        vertical-align: top;\n",
       "    }\n",
       "\n",
       "    .dataframe thead th {\n",
       "        text-align: right;\n",
       "    }\n",
       "</style>\n",
       "<table border=\"1\" class=\"dataframe\">\n",
       "  <thead>\n",
       "    <tr style=\"text-align: right;\">\n",
       "      <th></th>\n",
       "      <th>Symbol</th>\n",
       "      <th>Company</th>\n",
       "      <th>Earnings Date</th>\n",
       "      <th>EPS Estimate</th>\n",
       "      <th>Reported EPS</th>\n",
       "      <th>Surprise (%)</th>\n",
       "    </tr>\n",
       "  </thead>\n",
       "  <tbody>\n",
       "    <tr>\n",
       "      <th>0</th>\n",
       "      <td>AMZN</td>\n",
       "      <td>Amazon.com Inc</td>\n",
       "      <td>2026-04-29</td>\n",
       "      <td>NaN</td>\n",
       "      <td>NaN</td>\n",
       "      <td>NaN</td>\n",
       "    </tr>\n",
       "    <tr>\n",
       "      <th>1</th>\n",
       "      <td>AMZN</td>\n",
       "      <td>Amazon.com Inc</td>\n",
       "      <td>2026-02-04</td>\n",
       "      <td>NaN</td>\n",
       "      <td>NaN</td>\n",
       "      <td>NaN</td>\n",
       "    </tr>\n",
       "    <tr>\n",
       "      <th>2</th>\n",
       "      <td>AMZN</td>\n",
       "      <td>Amazon.com Inc</td>\n",
       "      <td>2025-10-29</td>\n",
       "      <td>NaN</td>\n",
       "      <td>NaN</td>\n",
       "      <td>NaN</td>\n",
       "    </tr>\n",
       "    <tr>\n",
       "      <th>3</th>\n",
       "      <td>AMZN</td>\n",
       "      <td>Amazon.com Inc</td>\n",
       "      <td>2025-07-30</td>\n",
       "      <td>NaN</td>\n",
       "      <td>NaN</td>\n",
       "      <td>NaN</td>\n",
       "    </tr>\n",
       "    <tr>\n",
       "      <th>4</th>\n",
       "      <td>AMZN</td>\n",
       "      <td>Amazon.com, Inc.</td>\n",
       "      <td>2025-05-01</td>\n",
       "      <td>1.36</td>\n",
       "      <td>1.59</td>\n",
       "      <td>16.74</td>\n",
       "    </tr>\n",
       "  </tbody>\n",
       "</table>\n",
       "</div>"
      ],
      "text/plain": [
       "  Symbol           Company Earnings Date  EPS Estimate  Reported EPS  \\\n",
       "0   AMZN    Amazon.com Inc    2026-04-29           NaN           NaN   \n",
       "1   AMZN    Amazon.com Inc    2026-02-04           NaN           NaN   \n",
       "2   AMZN    Amazon.com Inc    2025-10-29           NaN           NaN   \n",
       "3   AMZN    Amazon.com Inc    2025-07-30           NaN           NaN   \n",
       "4   AMZN  Amazon.com, Inc.    2025-05-01          1.36          1.59   \n",
       "\n",
       "   Surprise (%)  \n",
       "0           NaN  \n",
       "1           NaN  \n",
       "2           NaN  \n",
       "3           NaN  \n",
       "4         16.74  "
      ]
     },
     "execution_count": null,
     "metadata": {},
     "output_type": "execute_result"
    }
   ],
   "source": [
    "df0.head()"
   ]
  },
  {
   "cell_type": "code",
   "execution_count": null,
   "id": "831dc2c4",
   "metadata": {
    "scrolled": true
   },
   "outputs": [],
   "source": [
    "# Identify positive earnings surprises (where \"actual EPS > estimated EPS\" and both fields are present in the dataframe):\n",
    "df_PES = df0[df0['EPS Estimate'].notnull() & df0['Reported EPS'].notnull() & (df0['Reported EPS'] > df0['EPS Estimate'])]"
   ]
  },
  {
   "cell_type": "code",
   "execution_count": null,
   "id": "682bc8de",
   "metadata": {
    "scrolled": true
   },
   "outputs": [
    {
     "data": {
      "text/html": [
       "<div>\n",
       "<style scoped>\n",
       "    .dataframe tbody tr th:only-of-type {\n",
       "        vertical-align: middle;\n",
       "    }\n",
       "\n",
       "    .dataframe tbody tr th {\n",
       "        vertical-align: top;\n",
       "    }\n",
       "\n",
       "    .dataframe thead th {\n",
       "        text-align: right;\n",
       "    }\n",
       "</style>\n",
       "<table border=\"1\" class=\"dataframe\">\n",
       "  <thead>\n",
       "    <tr style=\"text-align: right;\">\n",
       "      <th></th>\n",
       "      <th>Symbol</th>\n",
       "      <th>Company</th>\n",
       "      <th>Earnings Date</th>\n",
       "      <th>EPS Estimate</th>\n",
       "      <th>Reported EPS</th>\n",
       "      <th>Surprise (%)</th>\n",
       "    </tr>\n",
       "  </thead>\n",
       "  <tbody>\n",
       "    <tr>\n",
       "      <th>4</th>\n",
       "      <td>AMZN</td>\n",
       "      <td>Amazon.com, Inc.</td>\n",
       "      <td>2025-05-01</td>\n",
       "      <td>1.36</td>\n",
       "      <td>1.59</td>\n",
       "      <td>16.74</td>\n",
       "    </tr>\n",
       "    <tr>\n",
       "      <th>5</th>\n",
       "      <td>AMZN</td>\n",
       "      <td>Amazon.com, Inc.</td>\n",
       "      <td>2025-02-06</td>\n",
       "      <td>1.49</td>\n",
       "      <td>1.86</td>\n",
       "      <td>24.47</td>\n",
       "    </tr>\n",
       "    <tr>\n",
       "      <th>6</th>\n",
       "      <td>AMZN</td>\n",
       "      <td>Amazon.com, Inc.</td>\n",
       "      <td>2024-10-31</td>\n",
       "      <td>1.14</td>\n",
       "      <td>1.43</td>\n",
       "      <td>25.17</td>\n",
       "    </tr>\n",
       "    <tr>\n",
       "      <th>7</th>\n",
       "      <td>AMZN</td>\n",
       "      <td>Amazon.com, Inc.</td>\n",
       "      <td>2024-08-01</td>\n",
       "      <td>1.03</td>\n",
       "      <td>1.26</td>\n",
       "      <td>22.58</td>\n",
       "    </tr>\n",
       "    <tr>\n",
       "      <th>8</th>\n",
       "      <td>AMZN</td>\n",
       "      <td>Amazon.com, Inc.</td>\n",
       "      <td>2024-04-30</td>\n",
       "      <td>0.83</td>\n",
       "      <td>0.98</td>\n",
       "      <td>17.91</td>\n",
       "    </tr>\n",
       "  </tbody>\n",
       "</table>\n",
       "</div>"
      ],
      "text/plain": [
       "  Symbol           Company Earnings Date  EPS Estimate  Reported EPS  \\\n",
       "4   AMZN  Amazon.com, Inc.    2025-05-01          1.36          1.59   \n",
       "5   AMZN  Amazon.com, Inc.    2025-02-06          1.49          1.86   \n",
       "6   AMZN  Amazon.com, Inc.    2024-10-31          1.14          1.43   \n",
       "7   AMZN  Amazon.com, Inc.    2024-08-01          1.03          1.26   \n",
       "8   AMZN  Amazon.com, Inc.    2024-04-30          0.83          0.98   \n",
       "\n",
       "   Surprise (%)  \n",
       "4         16.74  \n",
       "5         24.47  \n",
       "6         25.17  \n",
       "7         22.58  \n",
       "8         17.91  "
      ]
     },
     "execution_count": null,
     "metadata": {},
     "output_type": "execute_result"
    }
   ],
   "source": [
    "df_PES.head()"
   ]
  },
  {
   "cell_type": "code",
   "execution_count": null,
   "id": "80215e6c",
   "metadata": {},
   "outputs": [],
   "source": [
    "# Download historical price data for AMZN:\n",
    "ticker = 'AMZN'\n",
    "stock = yf.Ticker(ticker)"
   ]
  },
  {
   "cell_type": "code",
   "execution_count": null,
   "id": "96d9a133",
   "metadata": {},
   "outputs": [],
   "source": [
    "historical_data = stock.history(period='max', interval='1d')"
   ]
  },
  {
   "cell_type": "code",
   "execution_count": null,
   "id": "2696fcbc",
   "metadata": {},
   "outputs": [
    {
     "data": {
      "text/plain": [
       "7056"
      ]
     },
     "execution_count": null,
     "metadata": {},
     "output_type": "execute_result"
    }
   ],
   "source": [
    "len(historical_data)"
   ]
  },
  {
   "cell_type": "code",
   "execution_count": null,
   "id": "650a088e",
   "metadata": {},
   "outputs": [],
   "source": [
    "# Calculate 2-day percentage changes, using historical data:\n",
    "df['2day change'] = df['Close'].pct_change(periods=2)*100"
   ]
  },
  {
   "cell_type": "code",
   "execution_count": null,
   "id": "634d0f30",
   "metadata": {},
   "outputs": [
    {
     "data": {
      "text/html": [
       "<div>\n",
       "<style scoped>\n",
       "    .dataframe tbody tr th:only-of-type {\n",
       "        vertical-align: middle;\n",
       "    }\n",
       "\n",
       "    .dataframe tbody tr th {\n",
       "        vertical-align: top;\n",
       "    }\n",
       "\n",
       "    .dataframe thead th {\n",
       "        text-align: right;\n",
       "    }\n",
       "</style>\n",
       "<table border=\"1\" class=\"dataframe\">\n",
       "  <thead>\n",
       "    <tr style=\"text-align: right;\">\n",
       "      <th></th>\n",
       "      <th>Date</th>\n",
       "      <th>Close</th>\n",
       "      <th>2day change</th>\n",
       "    </tr>\n",
       "  </thead>\n",
       "  <tbody>\n",
       "    <tr>\n",
       "      <th>0</th>\n",
       "      <td>1997-05-15</td>\n",
       "      <td>0.097917</td>\n",
       "      <td>NaN</td>\n",
       "    </tr>\n",
       "    <tr>\n",
       "      <th>1</th>\n",
       "      <td>1997-05-16</td>\n",
       "      <td>0.086458</td>\n",
       "      <td>NaN</td>\n",
       "    </tr>\n",
       "    <tr>\n",
       "      <th>2</th>\n",
       "      <td>1997-05-19</td>\n",
       "      <td>0.085417</td>\n",
       "      <td>-12.765910</td>\n",
       "    </tr>\n",
       "    <tr>\n",
       "      <th>3</th>\n",
       "      <td>1997-05-20</td>\n",
       "      <td>0.081771</td>\n",
       "      <td>-5.421125</td>\n",
       "    </tr>\n",
       "    <tr>\n",
       "      <th>4</th>\n",
       "      <td>1997-05-21</td>\n",
       "      <td>0.071354</td>\n",
       "      <td>-16.463936</td>\n",
       "    </tr>\n",
       "  </tbody>\n",
       "</table>\n",
       "</div>"
      ],
      "text/plain": [
       "        Date     Close  2day change\n",
       "0 1997-05-15  0.097917          NaN\n",
       "1 1997-05-16  0.086458          NaN\n",
       "2 1997-05-19  0.085417   -12.765910\n",
       "3 1997-05-20  0.081771    -5.421125\n",
       "4 1997-05-21  0.071354   -16.463936"
      ]
     },
     "execution_count": null,
     "metadata": {},
     "output_type": "execute_result"
    }
   ],
   "source": [
    "df.head()"
   ]
  },
  {
   "cell_type": "code",
   "execution_count": null,
   "id": "2cfcadb5",
   "metadata": {},
   "outputs": [],
   "source": [
    "# Assume the next trading day may correspond to the earnings announcement:\n",
    "data = []\n",
    "for i in df_PES['Earnings Date']:\n",
    "    following_dates = df[df['Date'] > i]\n",
    "    \n",
    "    if not following_dates.empty:\n",
    "        next_trading_day = following_dates.iloc[0]\n",
    "        data.append(next_trading_day)"
   ]
  },
  {
   "cell_type": "code",
   "execution_count": null,
   "id": "1b1250ea",
   "metadata": {},
   "outputs": [
    {
     "data": {
      "text/html": [
       "<div>\n",
       "<style scoped>\n",
       "    .dataframe tbody tr th:only-of-type {\n",
       "        vertical-align: middle;\n",
       "    }\n",
       "\n",
       "    .dataframe tbody tr th {\n",
       "        vertical-align: top;\n",
       "    }\n",
       "\n",
       "    .dataframe thead th {\n",
       "        text-align: right;\n",
       "    }\n",
       "</style>\n",
       "<table border=\"1\" class=\"dataframe\">\n",
       "  <thead>\n",
       "    <tr style=\"text-align: right;\">\n",
       "      <th></th>\n",
       "      <th>Date</th>\n",
       "      <th>Close</th>\n",
       "      <th>2day change</th>\n",
       "    </tr>\n",
       "  </thead>\n",
       "  <tbody>\n",
       "    <tr>\n",
       "      <th>7035</th>\n",
       "      <td>2025-05-02</td>\n",
       "      <td>189.979996</td>\n",
       "      <td>3.014856</td>\n",
       "    </tr>\n",
       "    <tr>\n",
       "      <th>6977</th>\n",
       "      <td>2025-02-07</td>\n",
       "      <td>229.149994</td>\n",
       "      <td>-2.972437</td>\n",
       "    </tr>\n",
       "    <tr>\n",
       "      <th>6912</th>\n",
       "      <td>2024-11-01</td>\n",
       "      <td>197.929993</td>\n",
       "      <td>2.698074</td>\n",
       "    </tr>\n",
       "    <tr>\n",
       "      <th>6848</th>\n",
       "      <td>2024-08-02</td>\n",
       "      <td>167.899994</td>\n",
       "      <td>-10.204301</td>\n",
       "    </tr>\n",
       "    <tr>\n",
       "      <th>6784</th>\n",
       "      <td>2024-05-01</td>\n",
       "      <td>179.000000</td>\n",
       "      <td>-1.083116</td>\n",
       "    </tr>\n",
       "  </tbody>\n",
       "</table>\n",
       "</div>"
      ],
      "text/plain": [
       "           Date       Close  2day change\n",
       "7035 2025-05-02  189.979996     3.014856\n",
       "6977 2025-02-07  229.149994    -2.972437\n",
       "6912 2024-11-01  197.929993     2.698074\n",
       "6848 2024-08-02  167.899994   -10.204301\n",
       "6784 2024-05-01  179.000000    -1.083116"
      ]
     },
     "execution_count": null,
     "metadata": {},
     "output_type": "execute_result"
    }
   ],
   "source": [
    "df_following = pd.DataFrame(data)\n",
    "df_following.head()"
   ]
  },
  {
   "cell_type": "code",
   "execution_count": null,
   "id": "1558b484",
   "metadata": {},
   "outputs": [
    {
     "data": {
      "text/plain": [
       "2.6"
      ]
     },
     "execution_count": null,
     "metadata": {},
     "output_type": "execute_result"
    }
   ],
   "source": [
    "# Calculate 2-day percentage changes following positive earnings surprises:\n",
    "round(df_following['2day change'].median(),1)"
   ]
  }
 ],
 "metadata": {
  "kernelspec": {
   "display_name": "Python 3 (ipykernel)",
   "language": "python",
   "name": "python3"
  },
  "language_info": {
   "codemirror_mode": {
    "name": "ipython",
    "version": 3
   },
   "file_extension": ".py",
   "mimetype": "text/x-python",
   "name": "python",
   "nbconvert_exporter": "python",
   "pygments_lexer": "ipython3",
   "version": "3.9.7"
  }
 },
 "nbformat": 4,
 "nbformat_minor": 5
}
